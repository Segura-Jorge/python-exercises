{
 "cells": [
  {
   "cell_type": "markdown",
   "id": "879604af",
   "metadata": {},
   "source": [
    "## 1. Conditional Basics"
   ]
  },
  {
   "cell_type": "code",
   "execution_count": 18,
   "id": "98d337f5",
   "metadata": {},
   "outputs": [
    {
     "name": "stdout",
     "output_type": "stream",
     "text": [
      "What day is it? tuesday\n",
      "Today is not Monday\n"
     ]
    }
   ],
   "source": [
    "# a. Prompt the user for a day of the week, print out whether the day is Monday or not\n",
    "user_input_day = str.lower(input(\"What day is it? \"))\n",
    "user_response = user_input_day\n",
    "if user_response == ('monday'):\n",
    "    print('Today is Monday')\n",
    "else:\n",
    "    print('Today is not Monday')"
   ]
  },
  {
   "cell_type": "code",
   "execution_count": 19,
   "id": "c612b566",
   "metadata": {},
   "outputs": [
    {
     "name": "stdout",
     "output_type": "stream",
     "text": [
      "What day is it? monday\n",
      "It's a weekday.\n"
     ]
    }
   ],
   "source": [
    "# b. Prompt the user for a day of the week, print out whether the day is a weekday or a weekend\n",
    "user_input_day = str.lower(input(\"What day is it? \"))\n",
    "user_response = user_input_day\n",
    "\n",
    "if user_response in ['saturday', 'sunday']:\n",
    "    print('It\\'s the weekend!')\n",
    "elif user_response in ['monday','tuesday','wednesday','thursday','friday']:\n",
    "    print('It\\'s a weekday.')\n",
    "else:\n",
    "    print('You silly, that\\'s not a day! lol')"
   ]
  },
  {
   "cell_type": "code",
   "execution_count": 23,
   "id": "abe7a970",
   "metadata": {},
   "outputs": [
    {
     "name": "stdout",
     "output_type": "stream",
     "text": [
      "How many hours? 67\n",
      "4830.0\n"
     ]
    }
   ],
   "source": [
    "# c. Calculate a weekly paycheck, accounting for overtime pay. Create variables and make up values for:\n",
    "\n",
    "# The number of hours worked in one week\n",
    "# The hourly rate\n",
    "# For calculating pay:\n",
    "\n",
    "# For working 40 hours or less, each hour is paid at the hourly rate\n",
    "# For working more than 40 hours -- $2400 @ $60/hr\n",
    "# the first 40 hours are paid at the hourly rate\n",
    "# each hour after 40 is paid at time and a half (hourly rate * 1.5)\n",
    "user_input = int(input(\"How many hours? \"))\n",
    "reg_hours_worked = 40\n",
    "regular_hour_rate = 60\n",
    "extra_time = (user_input - 40)\n",
    "overtime_rate = (1.5 * regular_hour_rate)\n",
    "if user_input <= 40:\n",
    "    print(user_input * regular_hour_rate)\n",
    "else:\n",
    "    print((reg_hours_worked * regular_hour_rate) + (overtime_rate * extra_time))"
   ]
  },
  {
   "cell_type": "markdown",
   "id": "99d4b607",
   "metadata": {},
   "source": [
    "## 2.  Loop Basics"
   ]
  },
  {
   "cell_type": "code",
   "execution_count": 16,
   "id": "be38220a",
   "metadata": {},
   "outputs": [
    {
     "name": "stdout",
     "output_type": "stream",
     "text": [
      "5\n",
      "6\n",
      "7\n",
      "8\n",
      "9\n",
      "10\n",
      "11\n",
      "12\n",
      "13\n",
      "14\n",
      "15\n"
     ]
    }
   ],
   "source": [
    "# i. Create an integer variable i with a value of 5. Create a while loop that runs so long as i is less than or equal to 15. \n",
    "# Each loop iteration, output the current value of i, then increment i by one.\n",
    "i = 5\n",
    "while i <= 15:\n",
    "    print(i)\n",
    "    i = i + 1"
   ]
  },
  {
   "cell_type": "code",
   "execution_count": 11,
   "id": "0e1681dc",
   "metadata": {},
   "outputs": [
    {
     "name": "stdout",
     "output_type": "stream",
     "text": [
      "0\n",
      "2\n",
      "4\n",
      "6\n",
      "8\n",
      "10\n",
      "12\n",
      "14\n",
      "16\n",
      "18\n",
      "20\n",
      "22\n",
      "24\n",
      "26\n",
      "28\n",
      "30\n",
      "32\n",
      "34\n",
      "36\n",
      "38\n",
      "40\n",
      "42\n",
      "44\n",
      "46\n",
      "48\n",
      "50\n",
      "52\n",
      "54\n",
      "56\n",
      "58\n",
      "60\n",
      "62\n",
      "64\n",
      "66\n",
      "68\n",
      "70\n",
      "72\n",
      "74\n",
      "76\n",
      "78\n",
      "80\n",
      "82\n",
      "84\n",
      "86\n",
      "88\n",
      "90\n",
      "92\n",
      "94\n",
      "96\n",
      "98\n",
      "100\n"
     ]
    }
   ],
   "source": [
    "# Create a while loop that will count by 2's starting with 0 and ending at 100. \n",
    "# Follow each number with a new line.\n",
    "n = 0\n",
    "while n <= 100:\n",
    "    print(n)\n",
    "    n = n + 2"
   ]
  },
  {
   "cell_type": "code",
   "execution_count": 18,
   "id": "ade5af97",
   "metadata": {},
   "outputs": [
    {
     "name": "stdout",
     "output_type": "stream",
     "text": [
      "2\n",
      "4\n",
      "16\n",
      "256\n",
      "65536\n"
     ]
    }
   ],
   "source": [
    "# Create a while loop that starts at 2, and displays the number squared \n",
    "# on each line while the number is less than 1,000,000. Output should equal:\n",
    "s = 2\n",
    "while s < 1000000:\n",
    "    print(s)\n",
    "    s = s * s"
   ]
  },
  {
   "cell_type": "code",
   "execution_count": 22,
   "id": "d4d4b259",
   "metadata": {},
   "outputs": [
    {
     "name": "stdout",
     "output_type": "stream",
     "text": [
      "100\n",
      "95\n",
      "90\n",
      "85\n",
      "80\n",
      "75\n",
      "70\n",
      "65\n",
      "60\n",
      "55\n",
      "50\n",
      "45\n",
      "40\n",
      "35\n",
      "30\n",
      "25\n",
      "20\n",
      "15\n",
      "10\n",
      "5\n"
     ]
    }
   ],
   "source": [
    "# Write a while loop that uses print to create the output shown below.\n",
    "# 100\n",
    "# 95\n",
    "# 90\n",
    "# 85\n",
    "# 80\n",
    "# 75\n",
    "# 70\n",
    "# 65\n",
    "# 60\n",
    "# 55\n",
    "# 50\n",
    "# 45\n",
    "# 40\n",
    "# 35\n",
    "# 30\n",
    "# 25\n",
    "# 20\n",
    "# 15\n",
    "# 10\n",
    "# 5\n",
    "hundred = 100\n",
    "while hundred > 0:\n",
    "    print(hundred)\n",
    "    hundred = hundred - 5"
   ]
  },
  {
   "cell_type": "markdown",
   "id": "9391c861",
   "metadata": {},
   "source": [
    "### For Loops"
   ]
  },
  {
   "cell_type": "code",
   "execution_count": 15,
   "id": "b5654bd4",
   "metadata": {},
   "outputs": [
    {
     "name": "stdout",
     "output_type": "stream",
     "text": [
      "Enter a number to see the multiplication table3\n",
      "3 X 1 =  3\n",
      "3 X 2 =  6\n",
      "3 X 3 =  9\n",
      "3 X 4 =  12\n",
      "3 X 5 =  15\n",
      "3 X 6 =  18\n",
      "3 X 7 =  21\n",
      "3 X 8 =  24\n",
      "3 X 9 =  27\n",
      "3 X 10 =  30\n"
     ]
    }
   ],
   "source": [
    "# Write some code using a for loop that prompts the user for a number, then shows a multiplication table up through 10 for that number.\n",
    "# \n",
    "# For example, if the user enters 7, your program should output:\n",
    "# 7 x 1 = 7\n",
    "# 7 x 2 = 14\n",
    "# 7 x 3 = 21\n",
    "# 7 x 4 = 28\n",
    "# 7 x 5 = 35\n",
    "# 7 x 6 = 42\n",
    "# 7 x 7 = 49\n",
    "# 7 x 8 = 56\n",
    "# 7 x 9 = 63\n",
    "# 7 x 10 = 70\n",
    "user_n = input(\"Enter a number to see the multiplication table \")\n",
    "user_n = int(user_n)\n",
    "for n in range(1,11):\n",
    "    print(f'{user_n} X {n} = ', user_n * n)"
   ]
  },
  {
   "cell_type": "code",
   "execution_count": 14,
   "id": "ad4c9fe6",
   "metadata": {},
   "outputs": [
    {
     "name": "stdout",
     "output_type": "stream",
     "text": [
      "1\n",
      "22\n",
      "333\n",
      "4444\n",
      "55555\n",
      "666666\n",
      "7777777\n",
      "88888888\n",
      "999999999\n"
     ]
    }
   ],
   "source": [
    "# Create a for loop that uses print to create the output shown below.\n",
    "# 1\n",
    "# 22\n",
    "# 333\n",
    "# 4444\n",
    "# 55555\n",
    "# 666666\n",
    "# 7777777\n",
    "# 88888888\n",
    "# 999999999\n",
    "for n in range(1,10):\n",
    "    print(f'{n}' * n)"
   ]
  },
  {
   "cell_type": "markdown",
   "id": "4763c09d",
   "metadata": {},
   "source": [
    "## c. break and continue"
   ]
  },
  {
   "cell_type": "code",
   "execution_count": 12,
   "id": "fd9c4215",
   "metadata": {},
   "outputs": [
    {
     "name": "stdout",
     "output_type": "stream",
     "text": [
      "Give me a positive integer 3\n",
      "3\n",
      "2\n",
      "1\n"
     ]
    }
   ],
   "source": [
    "# i. Write a program that prompts the user for a positive integer. \n",
    "# Next write a loop that prints out the numbers from the number the user entered down to 1.\n",
    "user_pos_int = int(input(\"Give me a positive integer \"))\n",
    "while user_pos_int >= 1:\n",
    "    print(user_pos_int)\n",
    "    user_pos_int -= 1 # can also be written as user_pos_int = user_pos_int - 1"
   ]
  },
  {
   "cell_type": "code",
   "execution_count": 11,
   "id": "9a7faf50",
   "metadata": {},
   "outputs": [
    {
     "name": "stdout",
     "output_type": "stream",
     "text": [
      "Enter a positive number 3\n",
      "0\n",
      "1\n",
      "2\n",
      "3\n"
     ]
    }
   ],
   "source": [
    "# The input function can be used to prompt for input and use that input in your python code. \n",
    "# Prompt the user to enter a positive number and write a loop that counts from 0 to that number. \n",
    "# (Hints: note that the input function returns a string, so you'll need to convert this to a numeric type.)\n",
    "zero = 0\n",
    "user_input_number = int(input(\"Enter a positive number \"))\n",
    "while zero <= (user_input_number):\n",
    "    print(zero)\n",
    "    zero += 1"
   ]
  },
  {
   "cell_type": "code",
   "execution_count": 10,
   "id": "6f22f4e4",
   "metadata": {},
   "outputs": [
    {
     "name": "stdout",
     "output_type": "stream",
     "text": [
      "enter an odd number between 1 and 506\n",
      "6 is invalid. Try again.\n",
      "Enter an odd number between 1 and 50 6\n",
      "6 is invalid. Try again.\n",
      "Enter an odd number between 1 and 50 9\n",
      "\n",
      "Number to skip is: 9\n",
      "\n",
      "Here is an odd number:  1\n",
      "Here is an odd number:  3\n",
      "Here is an odd number:  5\n",
      "Here is an odd number:  7\n",
      "Yikes! Skipping number: 9\n",
      "Here is an odd number:  11\n",
      "Here is an odd number:  13\n",
      "Here is an odd number:  15\n",
      "Here is an odd number:  17\n",
      "Here is an odd number:  19\n",
      "Here is an odd number:  21\n",
      "Here is an odd number:  23\n",
      "Here is an odd number:  25\n",
      "Here is an odd number:  27\n",
      "Here is an odd number:  29\n",
      "Here is an odd number:  31\n",
      "Here is an odd number:  33\n",
      "Here is an odd number:  35\n",
      "Here is an odd number:  37\n",
      "Here is an odd number:  39\n",
      "Here is an odd number:  41\n",
      "Here is an odd number:  43\n",
      "Here is an odd number:  45\n",
      "Here is an odd number:  47\n",
      "Here is an odd number:  49\n"
     ]
    }
   ],
   "source": [
    "# Prompt the user for an odd number between 1 and 50. \n",
    "# Use a loop and a break statement to continue prompting the user if they enter invalid input. \n",
    "# (Hint: use the isdigit method on strings to determine this). Use a loop and the continue statement to output all the odd numbers between 1 and 50, except for the number the user entered.\n",
    "# \n",
    "# Your output should look like this:\n",
    "#     Number to skip is: 27\n",
    "# \n",
    "# Here is an odd number: 1\n",
    "# Here is an odd number: 3\n",
    "# Here is an odd number: 5\n",
    "# Here is an odd number: 7\n",
    "# Here is an odd number: 9\n",
    "# Here is an odd number: 11\n",
    "# Here is an odd number: 13\n",
    "# Here is an odd number: 15\n",
    "# Here is an odd number: 17\n",
    "# Here is an odd number: 19\n",
    "# Here is an odd number: 21\n",
    "# Here is an odd number: 23\n",
    "# Here is an odd number: 25\n",
    "# Yikes! Skipping number: 27\n",
    "# Here is an odd number: 29\n",
    "# Here is an odd number: 31\n",
    "# Here is an odd number: 33\n",
    "# Here is an odd number: 35\n",
    "# Here is an odd number: 37\n",
    "# Here is an odd number: 39\n",
    "# Here is an odd number: 41\n",
    "# Here is an odd number: 43\n",
    "# Here is an odd number: 45\n",
    "# Here is an odd number: 47\n",
    "# Here is an odd number: 49\n",
    "odd_range = -1\n",
    "user_input = input(\"enter an odd number between 1 and 50\")\n",
    "\n",
    "while (user_input.isdigit() == False\n",
    "       or int(user_input) > 50 \n",
    "       or int(user_input) < 1 \n",
    "       or int(user_input) % 2 == 0):\n",
    "    print(f'{user_input} is invalid. Try again.')\n",
    "    user_input = input('Enter an odd number between 1 and 50 ')\n",
    "\n",
    "user_input = int(user_input)\n",
    "print()\n",
    "print('Number to skip is:', user_input)\n",
    "print()\n",
    "\n",
    "while odd_range < 49:\n",
    "    odd_range += 2\n",
    "    if odd_range == user_input:\n",
    "        print('Yikes! Skipping number:', user_input)\n",
    "        continue\n",
    "    print('Here is an odd number: ', odd_range)"
   ]
  },
  {
   "cell_type": "markdown",
   "id": "aa0030b4",
   "metadata": {},
   "source": [
    "## 3. Fizzbuzz"
   ]
  },
  {
   "cell_type": "code",
   "execution_count": 9,
   "id": "ad64b53f",
   "metadata": {},
   "outputs": [
    {
     "name": "stdout",
     "output_type": "stream",
     "text": [
      "0\n",
      "1\n",
      "2\n",
      "3\n",
      "4\n",
      "5\n",
      "6\n",
      "7\n",
      "8\n",
      "9\n",
      "10\n",
      "11\n",
      "12\n",
      "13\n",
      "14\n",
      "15\n",
      "16\n",
      "17\n",
      "18\n",
      "19\n",
      "20\n",
      "21\n",
      "22\n",
      "23\n",
      "24\n",
      "25\n",
      "26\n",
      "27\n",
      "28\n",
      "29\n",
      "30\n",
      "31\n",
      "32\n",
      "33\n",
      "34\n",
      "35\n",
      "36\n",
      "37\n",
      "38\n",
      "39\n",
      "40\n",
      "41\n",
      "42\n",
      "43\n",
      "44\n",
      "45\n",
      "46\n",
      "47\n",
      "48\n",
      "49\n",
      "50\n",
      "51\n",
      "52\n",
      "53\n",
      "54\n",
      "55\n",
      "56\n",
      "57\n",
      "58\n",
      "59\n",
      "60\n",
      "61\n",
      "62\n",
      "63\n",
      "64\n",
      "65\n",
      "66\n",
      "67\n",
      "68\n",
      "69\n",
      "70\n",
      "71\n",
      "72\n",
      "73\n",
      "74\n",
      "75\n",
      "76\n",
      "77\n",
      "78\n",
      "79\n",
      "80\n",
      "81\n",
      "82\n",
      "83\n",
      "84\n",
      "85\n",
      "86\n",
      "87\n",
      "88\n",
      "89\n",
      "90\n",
      "91\n",
      "92\n",
      "93\n",
      "94\n",
      "95\n",
      "96\n",
      "97\n",
      "98\n",
      "99\n",
      "100\n"
     ]
    }
   ],
   "source": [
    "# One of the most common interview questions for entry-level programmers is the FizzBuzz test. Developed by Imran Ghory, the test is designed to test basic looping and conditional logic skills.\n",
    "# \n",
    "# Write a program that prints the numbers from 1 to 100.\n",
    "i = 0\n",
    "for i in range(0,101):\n",
    "    print(i)"
   ]
  },
  {
   "cell_type": "code",
   "execution_count": 8,
   "id": "5c39b39a",
   "metadata": {},
   "outputs": [
    {
     "name": "stdout",
     "output_type": "stream",
     "text": [
      "1\n",
      "2\n",
      "Fizz\n",
      "4\n",
      "Buzz\n",
      "Fizz\n",
      "7\n",
      "8\n",
      "Fizz\n",
      "Buzz\n",
      "11\n",
      "Fizz\n",
      "13\n",
      "14\n",
      "FizzBuzz\n",
      "16\n",
      "17\n",
      "Fizz\n",
      "19\n",
      "Buzz\n",
      "Fizz\n",
      "22\n",
      "23\n",
      "Fizz\n",
      "Buzz\n",
      "26\n",
      "Fizz\n",
      "28\n",
      "29\n",
      "FizzBuzz\n",
      "31\n",
      "32\n",
      "Fizz\n",
      "34\n",
      "Buzz\n",
      "Fizz\n",
      "37\n",
      "38\n",
      "Fizz\n",
      "Buzz\n",
      "41\n",
      "Fizz\n",
      "43\n",
      "44\n",
      "FizzBuzz\n",
      "46\n",
      "47\n",
      "Fizz\n",
      "49\n",
      "Buzz\n",
      "Fizz\n",
      "52\n",
      "53\n",
      "Fizz\n",
      "Buzz\n",
      "56\n",
      "Fizz\n",
      "58\n",
      "59\n",
      "FizzBuzz\n",
      "61\n",
      "62\n",
      "Fizz\n",
      "64\n",
      "Buzz\n",
      "Fizz\n",
      "67\n",
      "68\n",
      "Fizz\n",
      "Buzz\n",
      "71\n",
      "Fizz\n",
      "73\n",
      "74\n",
      "FizzBuzz\n",
      "76\n",
      "77\n",
      "Fizz\n",
      "79\n",
      "Buzz\n",
      "Fizz\n",
      "82\n",
      "83\n",
      "Fizz\n",
      "Buzz\n",
      "86\n",
      "Fizz\n",
      "88\n",
      "89\n",
      "FizzBuzz\n",
      "91\n",
      "92\n",
      "Fizz\n",
      "94\n",
      "Buzz\n",
      "Fizz\n",
      "97\n",
      "98\n",
      "Fizz\n",
      "Buzz\n"
     ]
    }
   ],
   "source": [
    "# For multiples of three print \"Fizz\" instead of the number\n",
    "# For the multiples of five print \"Buzz\".\n",
    "# For numbers which are multiples of both three and five print \"FizzBuzz\".\n",
    "for i in range(1,101):\n",
    "    if i % 3 == 0 and i % 5 == 0:\n",
    "        print('FizzBuzz')\n",
    "    elif i % 3 == 0:\n",
    "        print('Fizz')\n",
    "    elif i % 5 == 0:\n",
    "        print('Buzz')\n",
    "    else:\n",
    "        print(i)"
   ]
  },
  {
   "cell_type": "markdown",
   "id": "1484158e",
   "metadata": {},
   "source": [
    "## 4. Display a table of powers"
   ]
  },
  {
   "cell_type": "code",
   "execution_count": 7,
   "id": "1ff1281c",
   "metadata": {},
   "outputs": [
    {
     "name": "stdout",
     "output_type": "stream",
     "text": [
      "Enter an integer 6\n",
      "continue? (yes/no)yes\n",
      "number | squared | cubed\n",
      "------ | ------- | -----\n",
      "1      | 1       | 1\n",
      "2      | 4       | 8\n",
      "3      | 9       | 27\n",
      "4      | 16      | 64\n",
      "5      | 25      | 125\n",
      "6      | 36      | 216\n"
     ]
    }
   ],
   "source": [
    "# Prompt the user to enter an integer\n",
    "\n",
    "# Display a table of squares and cubes from 1 to the value entered\n",
    "\n",
    "# Ask if the user wants to continue\n",
    "\n",
    "# Assume that the user will enter valid data\n",
    "# Only continue if the user agrees to\n",
    "# Example Output\n",
    "#.    What number would you like to go up to? 5\n",
    "#.    \n",
    "#.    Here is your table!\n",
    "#.    \n",
    "#.    number | squared | cubed\n",
    "#.    ------ | ------- | -----\n",
    "#.    1      | 1       | 1\n",
    "#.    2      | 4       | 8\n",
    "#.    3      | 9       | 27\n",
    "#.    4      | 16      | 64\n",
    "#.    5      | 25      | 125\n",
    "\n",
    "\n",
    "\n",
    "user_number = int(input(\"Enter an integer \"))\n",
    "confirm = input(\"continue? (yes/no)\")\n",
    "if confirm != 'yes':\n",
    "    print(\"thanks for participating...\")\n",
    "    \n",
    "else:\n",
    "    print(\"number | squared | cubed\")\n",
    "    print(\"------ | ------- | -----\")\n",
    "\n",
    "    for i in range(1, user_number +1):\n",
    "        squared = i ** 2\n",
    "        cubed = i ** 3\n",
    "        print(f\"{i:<6} | {squared:<7} | {cubed}\")"
   ]
  },
  {
   "cell_type": "markdown",
   "id": "5d75ca25",
   "metadata": {},
   "source": [
    "## 5. Convert given number grades into letter grades."
   ]
  },
  {
   "cell_type": "code",
   "execution_count": 6,
   "id": "9f1cefbb",
   "metadata": {
    "scrolled": true
   },
   "outputs": [
    {
     "name": "stdout",
     "output_type": "stream",
     "text": [
      "Grading application\n",
      "Input a positive number. 67\n",
      "67 is a C\n",
      "Do you want to continue? Type y or yes. n\n"
     ]
    }
   ],
   "source": [
    "# Prompt the user for a numerical grade from 0 to 100\n",
    "# Display the corresponding letter grade\n",
    "# Prompt the user to continue\n",
    "# Assume that the user will enter valid integers for the grades\n",
    "# The application should only continue if the user agrees to\n",
    "# Grade Ranges:\n",
    "# \n",
    "# A : 100 - 88\n",
    "# B : 87 - 80\n",
    "# C : 79 - 67\n",
    "# D : 66 - 60\n",
    "# F : 59 - 0\n",
    "\n",
    "while True:\n",
    "    print('Grading application')\n",
    "    user_choice = input('Input a positive number. ')\n",
    "    while (user_choice.isdigit() == False\n",
    "          or int(user_choice) < 0\n",
    "          or int(user_choice) >= 100):\n",
    "        print(f'{user_choice} is nice, but we need a positive number.')\n",
    "        user_choice = input('Input a positive number. ')\n",
    "    \n",
    "    user_choice = int(user_choice)\n",
    "    if user_choice >= 88:\n",
    "        print(f'{user_choice} is an A')\n",
    "    elif user_choice >= 80:\n",
    "        print(f'{user_choice} is a B')\n",
    "    elif user_choice >= 67:\n",
    "        print(f'{user_choice} is a C')\n",
    "    elif user_choice >= 60:\n",
    "        print(f'{user_choice} is a D')\n",
    "    else:\n",
    "        print(f'{user_choice} is an F')\n",
    "    \n",
    "    user_choice = input('Do you want to continue? Type y or yes. ')\n",
    "    wants_to_stop = user_choice.lower() not in ['y', 'yes']\n",
    "    if wants_to_stop:\n",
    "        break"
   ]
  },
  {
   "cell_type": "code",
   "execution_count": 5,
   "id": "baad0552",
   "metadata": {
    "scrolled": false
   },
   "outputs": [
    {
     "name": "stdout",
     "output_type": "stream",
     "text": [
      "Enter a numerical grade: 75\n",
      "C\n",
      "Do you want to continue? (y/n) n\n"
     ]
    }
   ],
   "source": [
    "# alternative way\n",
    "    \n",
    "while True:\n",
    "    user_grade_request = int(input(\"Enter a numerical grade: \"))\n",
    "\n",
    "    if user_grade_request > 88:\n",
    "        if user_grade_request > 96:\n",
    "            print(\"A+\")\n",
    "        elif user_grade_request > 91:\n",
    "            print(\"A\")\n",
    "        else:\n",
    "            print(\"A-\")\n",
    "    elif user_grade_request > 80:\n",
    "        if user_grade_request > 85:\n",
    "            print(\"B+\")\n",
    "        elif user_grade_request > 82:\n",
    "            print(\"B\")\n",
    "        else:\n",
    "            print(\"B-\")\n",
    "    elif user_grade_request > 67:\n",
    "        if user_grade_request > 76:\n",
    "            print(\"C+\")\n",
    "        elif user_grade_request > 71:\n",
    "            print(\"C\")\n",
    "        else:\n",
    "            print(\"C-\")\n",
    "    elif user_grade_request > 60:\n",
    "        if user_grade_request > 65:\n",
    "            print(\"D+\")\n",
    "        elif user_grade_request > 62:\n",
    "            print(\"D\")\n",
    "        else:\n",
    "            print(\"D-\")\n",
    "    elif user_grade_request > 0:\n",
    "        print(\"F\")\n",
    "\n",
    "    user_continue = input(\"Do you want to continue? (y/n) \")\n",
    "\n",
    "    if user_continue.lower().strip() == \"y\":\n",
    "        continue\n",
    "    else:\n",
    "        break"
   ]
  },
  {
   "cell_type": "markdown",
   "id": "a0fd9e1d",
   "metadata": {},
   "source": [
    "## 6. "
   ]
  },
  {
   "cell_type": "code",
   "execution_count": 3,
   "id": "2c3676c2",
   "metadata": {},
   "outputs": [
    {
     "name": "stdout",
     "output_type": "stream",
     "text": [
      "'The Cat in the Hat' by Dr. Seuss is about children's literature\n",
      "'Holes' by Louis Sachar is about adventure\n",
      "'Romeo and Juliet' by William Shakespeare is about tradegy\n"
     ]
    }
   ],
   "source": [
    "# Create a list of dictionaries where each dictionary represents a book that you have read. \n",
    "# Each dictionary in the list should have the keys title, author, and genre. \n",
    "# Loop through the list and print out information about each book.\n",
    "\n",
    "books = [\n",
    "    {\n",
    "        'title': 'The Cat in the Hat',\n",
    "        'author': 'Dr. Seuss',\n",
    "        'genre': \"children's literature\",\n",
    "    },\n",
    "    {\n",
    "        'title': 'Holes',\n",
    "        'author': 'Louis Sachar',\n",
    "        'genre': 'adventure',\n",
    "    },\n",
    "    {\n",
    "        'title': 'Romeo and Juliet',\n",
    "        'author': 'William Shakespeare',\n",
    "        'genre': 'tradegy',\n",
    "    },\n",
    "]\n",
    "\n",
    "for book in books:\n",
    "    print(f\"'{book['title']}' by {book['author']} is about {book['genre']}\")"
   ]
  },
  {
   "cell_type": "code",
   "execution_count": 4,
   "id": "4ac4022c",
   "metadata": {},
   "outputs": [
    {
     "name": "stdout",
     "output_type": "stream",
     "text": [
      "Please enter a genre. adventure\n",
      "Holes\n"
     ]
    }
   ],
   "source": [
    "# Prompt the user to enter a genre, then loop through your books list and print out the titles \n",
    "# of all the books in that genre.\n",
    "\n",
    "genre = str.lower(input('Please enter a genre. '))\n",
    "\n",
    "for book in books:\n",
    "    if book['genre'] == genre:\n",
    "        print(book['title'])"
   ]
  },
  {
   "cell_type": "code",
   "execution_count": null,
   "id": "4059b57d",
   "metadata": {},
   "outputs": [],
   "source": []
  }
 ],
 "metadata": {
  "kernelspec": {
   "display_name": "Python 3 (ipykernel)",
   "language": "python",
   "name": "python3"
  },
  "language_info": {
   "codemirror_mode": {
    "name": "ipython",
    "version": 3
   },
   "file_extension": ".py",
   "mimetype": "text/x-python",
   "name": "python",
   "nbconvert_exporter": "python",
   "pygments_lexer": "ipython3",
   "version": "3.11.4"
  }
 },
 "nbformat": 4,
 "nbformat_minor": 5
}
