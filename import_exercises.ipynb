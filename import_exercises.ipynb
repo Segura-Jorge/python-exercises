{
 "cells": [
  {
   "cell_type": "markdown",
   "id": "c5bc7a0b",
   "metadata": {},
   "source": [
    "### 1. \n",
    "#### Import and test 3 of the functions from your functions exercise file. Import each function in a different way:\n",
    "\n",
    "a. Run an interactive python session and import the module. Call the is_vowel function using the . syntax.\n",
    "\n",
    "b. Create a file named import_exercises.py. Within this file, use from to import the calculate_tip function directly. Call this function with values you choose and print the result.\n",
    "\n",
    "c. Create a jupyter notebook named import_exercises.ipynb. Use from to import the get_letter_grade function and give it an alias. Test this function in your notebook.\n",
    "\n",
    "Make sure your code that tests the function imports is run from the same directory that your functions exercise file is in"
   ]
  },
  {
   "cell_type": "code",
   "execution_count": 287,
   "id": "ff0b8332",
   "metadata": {},
   "outputs": [],
   "source": [
    "from functions import is_vowel"
   ]
  },
  {
   "cell_type": "code",
   "execution_count": 288,
   "id": "0e3af93b",
   "metadata": {
    "scrolled": true
   },
   "outputs": [
    {
     "data": {
      "text/plain": [
       "True"
      ]
     },
     "execution_count": 288,
     "metadata": {},
     "output_type": "execute_result"
    }
   ],
   "source": [
    "is_vowel('a')"
   ]
  },
  {
   "cell_type": "code",
   "execution_count": 290,
   "id": "1b706a71",
   "metadata": {},
   "outputs": [],
   "source": [
    "# this the way to do it at the terminal\n",
    "# in the designated folder, open python >>> import function\n",
    "# functions.is_vowel('a')"
   ]
  },
  {
   "cell_type": "code",
   "execution_count": 12,
   "id": "955823d2",
   "metadata": {
    "scrolled": true
   },
   "outputs": [],
   "source": [
    "from functions import calculate_tip"
   ]
  },
  {
   "cell_type": "code",
   "execution_count": 13,
   "id": "2719b1be",
   "metadata": {},
   "outputs": [
    {
     "data": {
      "text/plain": [
       "'20.0% tip is: $ 20.0'"
      ]
     },
     "execution_count": 13,
     "metadata": {},
     "output_type": "execute_result"
    }
   ],
   "source": [
    "calculate_tip(100)"
   ]
  },
  {
   "cell_type": "code",
   "execution_count": 291,
   "id": "097c41f8",
   "metadata": {},
   "outputs": [],
   "source": [
    "# python terminal way\n",
    "# functions.calculate_tip(100)"
   ]
  },
  {
   "cell_type": "code",
   "execution_count": 15,
   "id": "a339081d",
   "metadata": {},
   "outputs": [],
   "source": [
    "from functions import apply_discount"
   ]
  },
  {
   "cell_type": "code",
   "execution_count": 16,
   "id": "5fc95cb8",
   "metadata": {},
   "outputs": [
    {
     "data": {
      "text/plain": [
       "75.0"
      ]
     },
     "execution_count": 16,
     "metadata": {},
     "output_type": "execute_result"
    }
   ],
   "source": [
    "apply_discount(100,.25)"
   ]
  },
  {
   "cell_type": "code",
   "execution_count": 292,
   "id": "38c5288c",
   "metadata": {},
   "outputs": [],
   "source": [
    "# python terminal way\n",
    "# functions.apply_discount(100,.25)"
   ]
  },
  {
   "cell_type": "code",
   "execution_count": 18,
   "id": "17046238",
   "metadata": {},
   "outputs": [],
   "source": [
    "from functions import is_two"
   ]
  },
  {
   "cell_type": "code",
   "execution_count": 19,
   "id": "0f2e8125",
   "metadata": {},
   "outputs": [
    {
     "data": {
      "text/plain": [
       "True"
      ]
     },
     "execution_count": 19,
     "metadata": {},
     "output_type": "execute_result"
    }
   ],
   "source": [
    "is_two(2)"
   ]
  },
  {
   "cell_type": "code",
   "execution_count": 293,
   "id": "46905745",
   "metadata": {},
   "outputs": [],
   "source": [
    "# python terminal way\n",
    "# functions.is_two(2)"
   ]
  },
  {
   "cell_type": "code",
   "execution_count": 295,
   "id": "8fda7e41",
   "metadata": {},
   "outputs": [],
   "source": [
    "from functions import get_letter_grade as grade \n",
    "#### once you alias something that is the only way to call for it"
   ]
  },
  {
   "cell_type": "code",
   "execution_count": 296,
   "id": "34dde80a",
   "metadata": {},
   "outputs": [
    {
     "data": {
      "text/plain": [
       "'C'"
      ]
     },
     "execution_count": 296,
     "metadata": {},
     "output_type": "execute_result"
    }
   ],
   "source": [
    "grade(75)"
   ]
  },
  {
   "cell_type": "code",
   "execution_count": 298,
   "id": "d8659ed0",
   "metadata": {},
   "outputs": [
    {
     "data": {
      "text/plain": [
       "'F'"
      ]
     },
     "execution_count": 298,
     "metadata": {},
     "output_type": "execute_result"
    }
   ],
   "source": [
    "grade(50)"
   ]
  },
  {
   "cell_type": "markdown",
   "id": "d44fafe7",
   "metadata": {},
   "source": [
    "## 2.\n",
    "Read about and use the 'itertools module' from the python standard library to help you solve the following problems. Note: Many of these functions in this library return an object, to see the results of the function, cast this object as a list.\n",
    "\n",
    "-How many different ways can you combine a single letter from \"abc\" with either 1, 2, or 3?\n",
    "\n",
    "-How many different combinations are there of 2 letters from \"abcd\"?\n",
    "\n",
    "-How many different permutations are there of 2 letters from \"abcd\"?"
   ]
  },
  {
   "cell_type": "code",
   "execution_count": 29,
   "id": "ed022979",
   "metadata": {},
   "outputs": [],
   "source": [
    "from itertools import *"
   ]
  },
  {
   "cell_type": "code",
   "execution_count": 301,
   "id": "6e33551a",
   "metadata": {},
   "outputs": [
    {
     "name": "stdout",
     "output_type": "stream",
     "text": [
      "('a', '1')\n",
      "('a', '2')\n",
      "('a', '3')\n",
      "('b', '1')\n",
      "('b', '2')\n",
      "('b', '3')\n",
      "('c', '1')\n",
      "('c', '2')\n",
      "('c', '3')\n"
     ]
    }
   ],
   "source": [
    "for value in product('abc','123'):\n",
    "    print(value)"
   ]
  },
  {
   "cell_type": "code",
   "execution_count": 38,
   "id": "a3e21912",
   "metadata": {},
   "outputs": [
    {
     "name": "stdout",
     "output_type": "stream",
     "text": [
      "('a', 'b')\n",
      "('a', 'c')\n",
      "('a', 'd')\n",
      "('b', 'c')\n",
      "('b', 'd')\n",
      "('c', 'd')\n"
     ]
    }
   ],
   "source": [
    "for value in combinations('abcd', 2):\n",
    "    print(value)"
   ]
  },
  {
   "cell_type": "code",
   "execution_count": 306,
   "id": "e2d183e7",
   "metadata": {},
   "outputs": [
    {
     "name": "stdout",
     "output_type": "stream",
     "text": [
      "('a', 'b')\n",
      "('a', 'c')\n",
      "('a', 'd')\n",
      "('b', 'a')\n",
      "('b', 'c')\n",
      "('b', 'd')\n",
      "('c', 'a')\n",
      "('c', 'b')\n",
      "('c', 'd')\n",
      "('d', 'a')\n",
      "('d', 'b')\n",
      "('d', 'c')\n"
     ]
    }
   ],
   "source": [
    "for value in permutations('abcd', 2):\n",
    "    print(value)"
   ]
  },
  {
   "cell_type": "markdown",
   "id": "e3ac7449",
   "metadata": {},
   "source": [
    "## 3.\n",
    "Save this file as profiles.json inside of your exercises directory (right click -> save file as...).\n",
    "\n",
    "Use the load function from the json module to open this file.\n",
    "\n"
   ]
  },
  {
   "cell_type": "code",
   "execution_count": 311,
   "id": "c637f334",
   "metadata": {},
   "outputs": [
    {
     "name": "stdout",
     "output_type": "stream",
     "text": [
      "<class 'list'>\n"
     ]
    },
    {
     "data": {
      "text/plain": [
       "{'_id': '54e23c3e46ab53a440b580e8',\n",
       " 'index': 0,\n",
       " 'guid': '9962b468-ef3e-4993-b677-617469bc3008',\n",
       " 'isActive': False,\n",
       " 'balance': '$2,097.02',\n",
       " 'picture': 'http://placehold.it/32x32',\n",
       " 'age': 39,\n",
       " 'eyeColor': 'blue',\n",
       " 'name': 'Hebert Estes',\n",
       " 'gender': 'male',\n",
       " 'company': 'ANDRYX',\n",
       " 'email': 'hebertestes@andryx.com',\n",
       " 'phone': '+1 (866) 456-2268',\n",
       " 'address': '121 Emmons Avenue, Klondike, Kentucky, 5975',\n",
       " 'about': 'Sit cillum deserunt irure laboris tempor fugiat laboris. Amet commodo amet est incididunt. Dolore qui fugiat cillum pariatur dolore excepteur elit ipsum.\\r\\n',\n",
       " 'registered': '2014-11-10T01:44:03 +06:00',\n",
       " 'latitude': -80.157843,\n",
       " 'longitude': 161.93016,\n",
       " 'tags': ['sit', 'occaecat', 'non', 'ea', 'sit', 'laboris', 'exercitation'],\n",
       " 'friends': [{'id': 0, 'name': 'Tanisha Leonard'},\n",
       "  {'id': 1, 'name': 'Dennis Wilson'},\n",
       "  {'id': 2, 'name': 'Lupe Howe'}],\n",
       " 'greeting': 'Hello, Hebert Estes! You have 4 unread messages.',\n",
       " 'favoriteFruit': 'strawberry'}"
      ]
     },
     "execution_count": 311,
     "metadata": {},
     "output_type": "execute_result"
    }
   ],
   "source": [
    "import json as js\n",
    "\n",
    "json.load(open('profiles.json'))\n",
    "profiles = js.load(open('profiles.json'))\n",
    "print(type(profiles))\n",
    "profiles[0] # each dictionary is a profile for a person"
   ]
  },
  {
   "cell_type": "markdown",
   "id": "e8fa8c87",
   "metadata": {},
   "source": [
    "## Your code should produce a list of dictionaries. Using this data, write some code that calculates and outputs the following information:"
   ]
  },
  {
   "cell_type": "code",
   "execution_count": 312,
   "id": "fd816200",
   "metadata": {},
   "outputs": [
    {
     "name": "stdout",
     "output_type": "stream",
     "text": [
      "19 is the total number of users.\n"
     ]
    }
   ],
   "source": [
    "# -Total number of users\n",
    "\n",
    "num_users = len(profiles)\n",
    "print(f'{num_users} is the total number of users.')"
   ]
  },
  {
   "cell_type": "code",
   "execution_count": 283,
   "id": "f6b7922d",
   "metadata": {},
   "outputs": [
    {
     "name": "stdout",
     "output_type": "stream",
     "text": [
      "9 active users.\n"
     ]
    }
   ],
   "source": [
    "# -Number of active users\n",
    "\n",
    "active_users = [profile for profile in profiles if profile[\"isActive\"]]\n",
    "print(f'{len(active_users)} active users.')"
   ]
  },
  {
   "cell_type": "code",
   "execution_count": 284,
   "id": "9341e91c",
   "metadata": {},
   "outputs": [
    {
     "name": "stdout",
     "output_type": "stream",
     "text": [
      "10 inactive users.\n"
     ]
    }
   ],
   "source": [
    "# -Number of inactive users\n",
    "\n",
    "inactive_users = [profile for profile in profiles if not profile[\"isActive\"]]\n",
    "len(inactive_users)\n",
    "print(f'{len(inactive_users)} inactive users.')"
   ]
  },
  {
   "cell_type": "code",
   "execution_count": 281,
   "id": "b1eea011",
   "metadata": {},
   "outputs": [
    {
     "name": "stdout",
     "output_type": "stream",
     "text": [
      "[1214.1, 1536.02, 1694.42, 1944.15, 2097.02, 2227.79, 2467.31, 2646.76, 2839.22, 2930.31, 2940.24, 3062.41, 3067.82, 3304.99, 3594.99, 3654.02, 3681.39, 3844.42, 3919.64]\n",
      "\n",
      "Grand total of balances for all users: $52667.02\n"
     ]
    }
   ],
   "source": [
    "# -Grand total of balances for all users\n",
    "\n",
    "user_balances = [float(profile[\"balance\"].replace(\"$\", \"\").replace(\",\", \"\")) for profile in profiles]\n",
    "print(sorted(user_balances))\n",
    "print()\n",
    "print(f'Grand total of balances for all users: ${sum(user_balances)}')"
   ]
  },
  {
   "cell_type": "code",
   "execution_count": 279,
   "id": "fc0a5ecd",
   "metadata": {},
   "outputs": [
    {
     "name": "stdout",
     "output_type": "stream",
     "text": [
      "Average balance per user: $2771.95\n"
     ]
    }
   ],
   "source": [
    "# -Average balance per user\n",
    "\n",
    "avg_balance = round(total_balances / len(user_balances),2)\n",
    "print(f'Average balance per user: ${avg_balance}')"
   ]
  },
  {
   "cell_type": "code",
   "execution_count": 278,
   "id": "5992acd7",
   "metadata": {},
   "outputs": [
    {
     "name": "stdout",
     "output_type": "stream",
     "text": [
      "User with the lowest balance: Avery Flynn\n",
      "with the amount of: $1214.1\n"
     ]
    }
   ],
   "source": [
    "# -User with the lowest balance\n",
    "lowest_balance = round(min(user_balances),2)\n",
    "user_with_lowest_balance = \"\"\n",
    "for profile in profiles:\n",
    "    balance = float(profile[\"balance\"].replace(\"$\", \"\").replace(\",\", \"\"))\n",
    "    if balance == lowest_balance:\n",
    "        user_with_lowest_balance = profile[\"name\"]\n",
    "\n",
    "print(\"User with the lowest balance:\", user_with_lowest_balance)\n",
    "print(f'with the amount of: ${lowest_balance}')"
   ]
  },
  {
   "cell_type": "code",
   "execution_count": 277,
   "id": "894c578d",
   "metadata": {},
   "outputs": [
    {
     "name": "stdout",
     "output_type": "stream",
     "text": [
      "User with the lowest balance: Fay Hammond\n",
      "with the amount of: $3919.64\n"
     ]
    }
   ],
   "source": [
    "# -User with the highest balance\n",
    "highest_balance = round(max(user_balances),2)\n",
    "user_with_highest_balance = \"\"\n",
    "for profile in profiles:\n",
    "    balance = float(profile[\"balance\"].replace(\"$\", \"\").replace(\",\", \"\"))\n",
    "    if balance == highest_balance:\n",
    "        user_with_highest_balance = profile[\"name\"]\n",
    "\n",
    "print(\"User with the lowest balance:\", user_with_highest_balance)\n",
    "print(f'with the amount of: ${highest_balance}')"
   ]
  },
  {
   "cell_type": "code",
   "execution_count": 268,
   "id": "d277b80c",
   "metadata": {},
   "outputs": [
    {
     "name": "stdout",
     "output_type": "stream",
     "text": [
      "['apple', 'apple', 'apple', 'apple', 'apple', 'apple', 'banana', 'banana', 'banana', 'banana', 'strawberry', 'strawberry', 'strawberry', 'strawberry', 'strawberry', 'strawberry', 'strawberry', 'strawberry', 'strawberry']\n",
      "\n",
      "\"strawberry\" is the most common favorite fruit.\n"
     ]
    }
   ],
   "source": [
    "# -Most common favorite fruit 'favoriteFruit'\n",
    "from statistics import mode\n",
    "favorite_fruit = [str(profile[\"favoriteFruit\"]) for profile in profiles]\n",
    "print(sorted(favorite_fruit))\n",
    "print()\n",
    "print(f'\"{mode(favorite_fruit)}\" is the most common favorite fruit.')"
   ]
  },
  {
   "cell_type": "code",
   "execution_count": 273,
   "id": "43a5c668",
   "metadata": {},
   "outputs": [
    {
     "name": "stdout",
     "output_type": "stream",
     "text": [
      "\"banana\" is the least most common favorite fruit.\n"
     ]
    }
   ],
   "source": [
    "# -Least most common favorite fruit\n",
    "from collections import Counter\n",
    "favorite_fruit = [str(profile[\"favoriteFruit\"]) for profile in profiles] \n",
    "res = Counter(favorite_fruit) \n",
    "tar_ele = res.most_common()[-1][0]\n",
    "print(f'\"{str(tar_ele)}\" is the least most common favorite fruit.')"
   ]
  },
  {
   "cell_type": "code",
   "execution_count": 260,
   "id": "fc6a1375",
   "metadata": {},
   "outputs": [
    {
     "name": "stdout",
     "output_type": "stream",
     "text": [
      "['Hello, Hebert Estes! You have 4 unread messages.', 'Hello, Allison Wynn! You have 19 unread messages.', 'Hello, Jacobs Floyd! You have 5 unread messages.', 'Hello, Fay Hammond! You have 10 unread messages.', 'Hello, Chasity Marsh! You have 9 unread messages.', 'Hello, Camacho Cortez! You have 19 unread messages.', 'Hello, Avery Flynn! You have 13 unread messages.', 'Hello, Michael Cash! You have 17 unread messages.', 'Hello, Madeleine Bray! You have 2 unread messages.', 'Hello, Corine French! You have 18 unread messages.', 'Hello, Trudy Cummings! You have 2 unread messages.', 'Hello, Peggy Mayer! You have 13 unread messages.', 'Hello, Chan Hurley! You have 7 unread messages.', 'Hello, Diaz Pena! You have 13 unread messages.', 'Hello, Heath Castaneda! You have 12 unread messages.', 'Hello, Greer Blankenship! You have 7 unread messages.', 'Hello, Coffey Hayes! You have 19 unread messages.', 'Hello, Leanne Hurst! You have 5 unread messages.', 'Hello, Ewing Larson! You have 16 unread messages.']\n"
     ]
    }
   ],
   "source": [
    "unread_messages = [str(profile[\"greeting\"]) for profile in profiles]\n",
    "print(unread_messages)"
   ]
  },
  {
   "cell_type": "code",
   "execution_count": 261,
   "id": "9726409d",
   "metadata": {},
   "outputs": [
    {
     "name": "stdout",
     "output_type": "stream",
     "text": [
      "The total number of unread messages for all users is: 210\n"
     ]
    }
   ],
   "source": [
    "# -Total number of unread messages for all users \n",
    "# Example of profile:'greeting': 'Hello, Hebert Estes! You have 4 unread messages.'\n",
    "unread_messages = 0 # the initial count is zero\n",
    "for profile in profiles:\n",
    "    profile_greeting = profile[\"greeting\"]\n",
    "    separate_greeting = profile_greeting.split(\" \") # where each word in the greeting is an element of the list.\n",
    "    num_unread_message = [word for word in separate_greeting if word.isdigit()][0] \n",
    "    # this goes through all the profile greetings and seeks for digits within separeted words\n",
    "    # [0] it extracts the first word that is a digit\n",
    "    unread_messages = unread_messages + int(num_unread_message)\n",
    "    # initially zero, the [0] acumulates the digit fround each loop\n",
    "print(\"The total number of unread messages for all users is:\", unread_messages)"
   ]
  },
  {
   "cell_type": "code",
   "execution_count": 267,
   "id": "78560da3",
   "metadata": {},
   "outputs": [
    {
     "name": "stdout",
     "output_type": "stream",
     "text": [
      "Total unique tags for all users: 52\n"
     ]
    }
   ],
   "source": [
    "# Find out how many total unique tags there are for all users\n",
    "unique_tags = set() # Create an empty set to store unique tags\n",
    "\n",
    "for profile in profiles: # Iterate through each profile\n",
    "    user_tags = profile[\"tags\"] # Extract the user's tags from the current profile\n",
    "    unique_tags.update(user_tags) # # Add the user's tags to the set of unique tags\n",
    "\n",
    "total_unique_tags = len(unique_tags) # # Calculate the total number of unique tags\n",
    "\n",
    "print(\"Total unique tags for all users:\", total_unique_tags)"
   ]
  },
  {
   "cell_type": "code",
   "execution_count": 266,
   "id": "2dc5372d",
   "metadata": {},
   "outputs": [
    {
     "name": "stdout",
     "output_type": "stream",
     "text": [
      "Hebert Estes's friends:\n",
      " - Tanisha Leonard\n",
      " - Dennis Wilson\n",
      " - Lupe Howe\n",
      "________________________\n",
      "Allison Wynn's friends:\n",
      " - Curry Cox\n",
      " - Alma Dale\n",
      " - Barbara Mayo\n",
      "________________________\n",
      "Jacobs Floyd's friends:\n",
      " - Robles Chan\n",
      " - Whitfield Strickland\n",
      " - Lina Melton\n",
      "________________________\n",
      "Fay Hammond's friends:\n",
      " - Dudley Booker\n",
      " - Esmeralda Tyler\n",
      " - Rosa Hampton\n",
      "________________________\n",
      "Chasity Marsh's friends:\n",
      " - Kristina Glover\n",
      " - Ora Christian\n",
      " - Jacklyn Joseph\n",
      "________________________\n",
      "Camacho Cortez's friends:\n",
      " - Sexton Tillman\n",
      " - Boone Steele\n",
      " - Elvia Ward\n",
      "________________________\n",
      "Avery Flynn's friends:\n",
      " - Ball Henson\n",
      " - Dalton Mccoy\n",
      " - Carolina Sharp\n",
      "________________________\n",
      "Michael Cash's friends:\n",
      " - Rodgers Nolan\n",
      " - Jewel Marks\n",
      " - Sue Mejia\n",
      "________________________\n",
      "Madeleine Bray's friends:\n",
      " - Herrera Doyle\n",
      " - Berger Fisher\n",
      " - Chang Coffey\n",
      "________________________\n",
      "Corine French's friends:\n",
      " - Greta Hill\n",
      " - Cline Curry\n",
      " - Branch Sawyer\n",
      "________________________\n",
      "Trudy Cummings's friends:\n",
      " - Amber Gates\n",
      " - Barron Walsh\n",
      " - Nell Bolton\n",
      "________________________\n",
      "Peggy Mayer's friends:\n",
      " - Hopkins Mccall\n",
      " - Nielsen Weeks\n",
      " - Dale Knowles\n",
      "________________________\n",
      "Chan Hurley's friends:\n",
      " - Reese Grant\n",
      " - Jenna Kinney\n",
      " - Rhea May\n",
      "________________________\n",
      "Diaz Pena's friends:\n",
      " - Mcmillan Knox\n",
      " - Flossie Dixon\n",
      " - Sears Carson\n",
      "________________________\n",
      "Heath Castaneda's friends:\n",
      " - Dora Mack\n",
      " - Christensen Camacho\n",
      " - Castro Kelly\n",
      "________________________\n",
      "Greer Blankenship's friends:\n",
      " - Woods Norman\n",
      " - Marilyn Haney\n",
      " - Webster Nielsen\n",
      "________________________\n",
      "Coffey Hayes's friends:\n",
      " - Suarez Perry\n",
      " - Marlene Sheppard\n",
      " - Cohen Yates\n",
      "________________________\n",
      "Leanne Hurst's friends:\n",
      " - Farley Frank\n",
      " - Pruitt Frye\n",
      " - Simpson Cardenas\n",
      "________________________\n",
      "Ewing Larson's friends:\n",
      " - Suzette Huffman\n",
      " - Paige Santiago\n",
      " - Dollie Fernandez\n",
      "________________________\n"
     ]
    }
   ],
   "source": [
    "# Display a user's name and all of their respective friends\n",
    "for profile in profiles:\n",
    "    # Extract the user's name from the current profile\n",
    "    user_name = profile[\"name\"]\n",
    "    \n",
    "    # Extract the user's friends from the current profile\n",
    "    user_friends = profile[\"friends\"]\n",
    "    \n",
    "    # Print the user's name and their friends\n",
    "    print(f\"{user_name}'s friends:\")\n",
    "    for friend in user_friends:\n",
    "        print(f\" - {friend['name']}\")\n",
    "    \n",
    "    # Add a separator for clarity\n",
    "    print(\"_\" * 24)\n"
   ]
  },
  {
   "cell_type": "code",
   "execution_count": null,
   "id": "66a64d0b",
   "metadata": {},
   "outputs": [],
   "source": []
  }
 ],
 "metadata": {
  "kernelspec": {
   "display_name": "Python 3 (ipykernel)",
   "language": "python",
   "name": "python3"
  },
  "language_info": {
   "codemirror_mode": {
    "name": "ipython",
    "version": 3
   },
   "file_extension": ".py",
   "mimetype": "text/x-python",
   "name": "python",
   "nbconvert_exporter": "python",
   "pygments_lexer": "ipython3",
   "version": "3.11.4"
  }
 },
 "nbformat": 4,
 "nbformat_minor": 5
}
