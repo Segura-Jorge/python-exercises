{
 "cells": [
  {
   "cell_type": "markdown",
   "id": "c5bc7a0b",
   "metadata": {},
   "source": [
    "### 1. \n",
    "#### Import and test 3 of the functions from your functions exercise file. Import each function in a different way:\n",
    "\n",
    "Run an interactive python session and import the module. Call the is_vowel function using the . syntax.\n",
    "Create a file named import_exercises.py. Within this file, use from to import the calculate_tip function directly. Call this function with values you choose and print the result.\n",
    "Create a jupyter notebook named import_exercises.ipynb. Use from to import the get_letter_grade function and give it an alias. Test this function in your notebook.\n",
    "Make sure your code that tests the function imports is run from the same directory that your functions exercise file is in"
   ]
  },
  {
   "cell_type": "code",
   "execution_count": 49,
   "id": "ff0b8332",
   "metadata": {},
   "outputs": [],
   "source": [
    "from functions import is_vowel"
   ]
  },
  {
   "cell_type": "code",
   "execution_count": 54,
   "id": "0e3af93b",
   "metadata": {
    "scrolled": true
   },
   "outputs": [
    {
     "data": {
      "text/plain": [
       "True"
      ]
     },
     "execution_count": 54,
     "metadata": {},
     "output_type": "execute_result"
    }
   ],
   "source": [
    "is_vowel('a')"
   ]
  },
  {
   "cell_type": "code",
   "execution_count": 55,
   "id": "1b706a71",
   "metadata": {},
   "outputs": [
    {
     "data": {
      "text/plain": [
       "True"
      ]
     },
     "execution_count": 55,
     "metadata": {},
     "output_type": "execute_result"
    }
   ],
   "source": [
    "functions.is_vowel('a')"
   ]
  },
  {
   "cell_type": "code",
   "execution_count": 32,
   "id": "955823d2",
   "metadata": {
    "scrolled": true
   },
   "outputs": [],
   "source": [
    "from functions import calculate_tip"
   ]
  },
  {
   "cell_type": "code",
   "execution_count": 33,
   "id": "2719b1be",
   "metadata": {},
   "outputs": [
    {
     "data": {
      "text/plain": [
       "'20.0% tip is: $ 20.0'"
      ]
     },
     "execution_count": 33,
     "metadata": {},
     "output_type": "execute_result"
    }
   ],
   "source": [
    "calculate_tip(100)"
   ]
  },
  {
   "cell_type": "code",
   "execution_count": 28,
   "id": "097c41f8",
   "metadata": {},
   "outputs": [
    {
     "data": {
      "text/plain": [
       "'20.0% tip is: $ 20.0'"
      ]
     },
     "execution_count": 28,
     "metadata": {},
     "output_type": "execute_result"
    }
   ],
   "source": [
    "functions.calculate_tip(100)"
   ]
  },
  {
   "cell_type": "code",
   "execution_count": 34,
   "id": "a339081d",
   "metadata": {},
   "outputs": [],
   "source": [
    "from functions import apply_discount"
   ]
  },
  {
   "cell_type": "code",
   "execution_count": 35,
   "id": "5fc95cb8",
   "metadata": {},
   "outputs": [
    {
     "data": {
      "text/plain": [
       "75.0"
      ]
     },
     "execution_count": 35,
     "metadata": {},
     "output_type": "execute_result"
    }
   ],
   "source": [
    "apply_discount(100,.25)"
   ]
  },
  {
   "cell_type": "code",
   "execution_count": 31,
   "id": "38c5288c",
   "metadata": {},
   "outputs": [
    {
     "data": {
      "text/plain": [
       "75.0"
      ]
     },
     "execution_count": 31,
     "metadata": {},
     "output_type": "execute_result"
    }
   ],
   "source": [
    "functions.apply_discount(100,.25)"
   ]
  },
  {
   "cell_type": "code",
   "execution_count": 36,
   "id": "17046238",
   "metadata": {},
   "outputs": [],
   "source": [
    "from functions import is_two"
   ]
  },
  {
   "cell_type": "code",
   "execution_count": 37,
   "id": "0f2e8125",
   "metadata": {},
   "outputs": [
    {
     "data": {
      "text/plain": [
       "True"
      ]
     },
     "execution_count": 37,
     "metadata": {},
     "output_type": "execute_result"
    }
   ],
   "source": [
    "is_two(2)"
   ]
  },
  {
   "cell_type": "code",
   "execution_count": 39,
   "id": "46905745",
   "metadata": {},
   "outputs": [
    {
     "data": {
      "text/plain": [
       "True"
      ]
     },
     "execution_count": 39,
     "metadata": {},
     "output_type": "execute_result"
    }
   ],
   "source": [
    "functions.is_two(2)"
   ]
  },
  {
   "cell_type": "code",
   "execution_count": 59,
   "id": "8fda7e41",
   "metadata": {},
   "outputs": [],
   "source": [
    "from functions import get_letter_grade"
   ]
  },
  {
   "cell_type": "code",
   "execution_count": 60,
   "id": "34dde80a",
   "metadata": {},
   "outputs": [
    {
     "data": {
      "text/plain": [
       "'C'"
      ]
     },
     "execution_count": 60,
     "metadata": {},
     "output_type": "execute_result"
    }
   ],
   "source": [
    "get_letter_grade(75)"
   ]
  },
  {
   "cell_type": "code",
   "execution_count": 61,
   "id": "19ae6d5a",
   "metadata": {},
   "outputs": [],
   "source": [
    "from functions import get_letter_grade as grade"
   ]
  },
  {
   "cell_type": "code",
   "execution_count": 62,
   "id": "d8659ed0",
   "metadata": {},
   "outputs": [
    {
     "data": {
      "text/plain": [
       "'F'"
      ]
     },
     "execution_count": 62,
     "metadata": {},
     "output_type": "execute_result"
    }
   ],
   "source": [
    "grade(50)"
   ]
  },
  {
   "cell_type": "code",
   "execution_count": 63,
   "id": "df5ad1fb",
   "metadata": {},
   "outputs": [
    {
     "data": {
      "text/plain": [
       "'A'"
      ]
     },
     "execution_count": 63,
     "metadata": {},
     "output_type": "execute_result"
    }
   ],
   "source": [
    "functions.get_letter_grade(95)"
   ]
  },
  {
   "cell_type": "markdown",
   "id": "d44fafe7",
   "metadata": {},
   "source": [
    "## 2.\n",
    "Read about and use the 'itertools module' from the python standard library to help you solve the following problems. Note: Many of these functions in this library return an object, to see the results of the function, cast this object as a list.\n",
    "\n",
    "-How many different ways can you combine a single letter from \"abc\" with either 1, 2, or 3?\n",
    "\n",
    "-How many different combinations are there of 2 letters from \"abcd\"?\n",
    "\n",
    "-How many different permutations are there of 2 letters from \"abcd\"?"
   ]
  },
  {
   "cell_type": "code",
   "execution_count": 77,
   "id": "ed022979",
   "metadata": {},
   "outputs": [],
   "source": [
    "from itertools import *"
   ]
  },
  {
   "cell_type": "code",
   "execution_count": 101,
   "id": "6e33551a",
   "metadata": {},
   "outputs": [
    {
     "name": "stdout",
     "output_type": "stream",
     "text": [
      "('a', '1')\n",
      "('a', '2')\n",
      "('a', '3')\n",
      "('b', '1')\n",
      "('b', '2')\n",
      "('b', '3')\n",
      "('c', '1')\n",
      "('c', '2')\n",
      "('c', '3')\n"
     ]
    }
   ],
   "source": [
    "for value in product('abc','123'):\n",
    "    print(value)"
   ]
  },
  {
   "cell_type": "markdown",
   "id": "963c4434",
   "metadata": {},
   "source": []
  }
 ],
 "metadata": {
  "kernelspec": {
   "display_name": "Python 3 (ipykernel)",
   "language": "python",
   "name": "python3"
  },
  "language_info": {
   "codemirror_mode": {
    "name": "ipython",
    "version": 3
   },
   "file_extension": ".py",
   "mimetype": "text/x-python",
   "name": "python",
   "nbconvert_exporter": "python",
   "pygments_lexer": "ipython3",
   "version": "3.11.4"
  }
 },
 "nbformat": 4,
 "nbformat_minor": 5
}
