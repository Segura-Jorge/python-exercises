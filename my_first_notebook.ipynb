{
 "cells": [
  {
   "cell_type": "code",
   "execution_count": null,
   "id": "b94134b7",
   "metadata": {},
   "outputs": [],
   "source": [
    "control+return - runs the selected cells\n",
    "command+return - runs the selected cells"
   ]
  },
  {
   "cell_type": "code",
   "execution_count": null,
   "id": "db5beacb",
   "metadata": {},
   "outputs": [],
   "source": [
    "shift+return - runs the cells below"
   ]
  },
  {
   "cell_type": "code",
   "execution_count": null,
   "id": "5af83117",
   "metadata": {},
   "outputs": [],
   "source": [
    "shift+M - merge selected cells, or current cell with cell below if only one cell is selected"
   ]
  },
  {
   "cell_type": "code",
   "execution_count": null,
   "id": "03500025",
   "metadata": {},
   "outputs": [],
   "source": [
    "D, D - delete selected cells (first select the cell!)"
   ]
  },
  {
   "cell_type": "code",
   "execution_count": null,
   "id": "e6f3dbab",
   "metadata": {},
   "outputs": [],
   "source": [
    "shift+K - extend selected cells above\n",
    "shift+(UP) - extend selected cells above"
   ]
  },
  {
   "cell_type": "code",
   "execution_count": null,
   "id": "345ca654",
   "metadata": {},
   "outputs": [],
   "source": [
    "command+S - Save and Checkpoint\n",
    "S - Save and Checkpoint"
   ]
  },
  {
   "cell_type": "code",
   "execution_count": null,
   "id": "3d3ddb8b",
   "metadata": {},
   "outputs": [],
   "source": [
    "Z - undo cell deletion"
   ]
  }
 ],
 "metadata": {
  "kernelspec": {
   "display_name": "Python 3 (ipykernel)",
   "language": "python",
   "name": "python3"
  },
  "language_info": {
   "codemirror_mode": {
    "name": "ipython",
    "version": 3
   },
   "file_extension": ".py",
   "mimetype": "text/x-python",
   "name": "python",
   "nbconvert_exporter": "python",
   "pygments_lexer": "ipython3",
   "version": "3.11.4"
  }
 },
 "nbformat": 4,
 "nbformat_minor": 5
}
