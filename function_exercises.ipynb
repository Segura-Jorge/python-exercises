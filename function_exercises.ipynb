{
 "cells": [
  {
   "cell_type": "code",
   "execution_count": 51,
   "id": "f4d097b7",
   "metadata": {},
   "outputs": [
    {
     "name": "stdout",
     "output_type": "stream",
     "text": [
      "Test for the is_two() function\n",
      "\n",
      "True\n",
      "True\n",
      "True\n",
      "False\n",
      "False\n"
     ]
    }
   ],
   "source": [
    "# 1.\n",
    "# Define a function named is_two. It should accept one input and return\n",
    "# true if the passed input is either the number or the string 2, False otherwise.\n",
    "    \n",
    "def is_two(n):\n",
    "    \"\"\"\n",
    "    takes a string or int and returns whether it is two\n",
    "    \"\"\"\n",
    "    return n == 2 or n == \"2\"\n",
    "print(\"Test for the is_two() function\")\n",
    "print()\n",
    "print(is_two(2))\n",
    "print(is_two('2'))\n",
    "print(is_two(\"2\"))\n",
    "print(is_two(3))\n",
    "print(is_two(1))"
   ]
  },
  {
   "cell_type": "code",
   "execution_count": 87,
   "id": "e3d35ab6",
   "metadata": {
    "scrolled": true
   },
   "outputs": [
    {
     "name": "stdout",
     "output_type": "stream",
     "text": [
      "Test for is_vowel\n",
      "\n",
      "True\n",
      "False\n",
      "False\n",
      "False\n",
      "True\n",
      "False\n"
     ]
    }
   ],
   "source": [
    "# Define a function named is_vowel. \n",
    "# It should return True if the passed string is a vowel, False otherwise.\n",
    "\n",
    "def is_vowel(letter):\n",
    "    \"\"\"\n",
    "    takes a single character string and returns True if it is a vowel\n",
    "    \"\"\"\n",
    "    return (letter.lower() in 'aeiou') and len(letter) == 1\n",
    "\n",
    "print(\"Test for is_vowel\")\n",
    "print()\n",
    "print(is_vowel(\"a\"))\n",
    "print(is_vowel(\"b\"))\n",
    "print(is_vowel(\"\"))\n",
    "print(is_vowel(\"ab\"))\n",
    "print(is_vowel(\"E\"))\n",
    "print(is_vowel(\"7\"))"
   ]
  },
  {
   "cell_type": "code",
   "execution_count": 95,
   "id": "d6270306",
   "metadata": {},
   "outputs": [
    {
     "name": "stdout",
     "output_type": "stream",
     "text": [
      "Test for is_consonant\n",
      "\n",
      "False\n",
      "True\n",
      "False\n",
      "False\n",
      "True\n",
      "False\n"
     ]
    },
    {
     "ename": "TypeError",
     "evalue": "object of type 'int' has no len()",
     "output_type": "error",
     "traceback": [
      "\u001b[0;31m---------------------------------------------------------------------------\u001b[0m",
      "\u001b[0;31mTypeError\u001b[0m                                 Traceback (most recent call last)",
      "Cell \u001b[0;32mIn[95], line 17\u001b[0m\n\u001b[1;32m     15\u001b[0m \u001b[38;5;28mprint\u001b[39m(is_consonant(\u001b[38;5;124m\"\u001b[39m\u001b[38;5;124mT\u001b[39m\u001b[38;5;124m\"\u001b[39m))\n\u001b[1;32m     16\u001b[0m \u001b[38;5;28mprint\u001b[39m(is_consonant(\u001b[38;5;124m\"\u001b[39m\u001b[38;5;124m1\u001b[39m\u001b[38;5;124m\"\u001b[39m))\n\u001b[0;32m---> 17\u001b[0m \u001b[38;5;28mprint\u001b[39m(is_consonant(\u001b[38;5;241m7\u001b[39m))\n",
      "Cell \u001b[0;32mIn[95], line 7\u001b[0m, in \u001b[0;36mis_consonant\u001b[0;34m(letter)\u001b[0m\n\u001b[1;32m      5\u001b[0m \u001b[38;5;28;01mdef\u001b[39;00m \u001b[38;5;21mis_consonant\u001b[39m(letter):\n\u001b[1;32m      6\u001b[0m     \u001b[38;5;66;03m#letters = \"abcdefghijklmnopqrstuvwxyz\"\u001b[39;00m\n\u001b[0;32m----> 7\u001b[0m     \u001b[38;5;28;01mreturn\u001b[39;00m \u001b[38;5;28mlen\u001b[39m(letter) \u001b[38;5;241m==\u001b[39m \u001b[38;5;241m1\u001b[39m \u001b[38;5;129;01mand\u001b[39;00m letter\u001b[38;5;241m.\u001b[39misalpha() \u001b[38;5;129;01mand\u001b[39;00m \u001b[38;5;129;01mnot\u001b[39;00m is_vowel(letter)\n",
      "\u001b[0;31mTypeError\u001b[0m: object of type 'int' has no len()"
     ]
    }
   ],
   "source": [
    "# 3.\n",
    "# Define a function named is_consonant. It should return True if \n",
    "# the passed string is a consonant, False otherwise. \n",
    "# Use your is_vowel function to accomplish this\n",
    "\n",
    "def is_consonant(letter):\n",
    "    #letters = \"abcdefghijklmnopqrstuvwxyz\"\n",
    "    return len(letter) == 1 and letter.isalpha() and not is_vowel(letter)\n",
    "   \n",
    "print(\"Test for is_consonant\")\n",
    "print()\n",
    "print(is_consonant(\"a\"))\n",
    "print(is_consonant(\"b\"))\n",
    "print(is_consonant(\"\"))\n",
    "print(is_consonant(\"ab\"))\n",
    "print(is_consonant(\"T\"))\n",
    "print(is_consonant(\"1\"))\n",
    "print(is_consonant(7))"
   ]
  },
  {
   "cell_type": "code",
   "execution_count": 107,
   "id": "c86c6e7f",
   "metadata": {},
   "outputs": [
    {
     "name": "stdout",
     "output_type": "stream",
     "text": [
      "Test for capitalize_consonant\n",
      "\n",
      "Codeup\n",
      "School\n",
      "Jorge\n",
      "Segura\n",
      "Time\n"
     ]
    }
   ],
   "source": [
    "# 4.Define a function that accepts a string that is a word. \n",
    "# The function should capitalize the first letter of the word if the word starts with a consonant.\n",
    "\n",
    "def capitalize_consonant(arg):\n",
    "    if is_consonant(arg[0]) == True:\n",
    "        return arg.capitalize()\n",
    "    else:\n",
    "        return arg\n",
    "print(\"Test for capitalize_consonant\")\n",
    "print()\n",
    "print(capitalize_consonant(\"codeup\"))\n",
    "print(capitalize_consonant(\"school\"))\n",
    "print(capitalize_consonant(\"jorge\"))\n",
    "print(capitalize_consonant(\"segura\"))\n",
    "print(capitalize_consonant(\"TIME\"))"
   ]
  },
  {
   "cell_type": "code",
   "execution_count": 97,
   "id": "9a7ea6b7",
   "metadata": {},
   "outputs": [],
   "source": [
    "# 5.\n",
    "# Define a function named calculate_tip. \n",
    "# It should accept a tip percentage (a number between 0 and 1) and the bill total, and return the amount to tip.\n"
   ]
  },
  {
   "cell_type": "code",
   "execution_count": 98,
   "id": "966579cc",
   "metadata": {},
   "outputs": [],
   "source": [
    "# 6.\n",
    "# Define a function named apply_discount. It should accept a original price, \n",
    "# and a discount percentage, and return the price after the discount is applied.\n"
   ]
  },
  {
   "cell_type": "code",
   "execution_count": 99,
   "id": "b5e13348",
   "metadata": {},
   "outputs": [],
   "source": [
    "# 7.\n",
    "# Define a function named handle_commas. It should accept a string that \n",
    "# is a number that contains commas in it as input, and return a number as output.\n"
   ]
  },
  {
   "cell_type": "code",
   "execution_count": 100,
   "id": "a00dbd29",
   "metadata": {},
   "outputs": [],
   "source": [
    "# 8.\n",
    "# Define a function named get_letter_grade. It should accept a number and return \n",
    "# the letter grade associated with that number (A-F).\n"
   ]
  },
  {
   "cell_type": "code",
   "execution_count": 101,
   "id": "c101df19",
   "metadata": {},
   "outputs": [],
   "source": [
    "# 9.\n",
    "# Define a function named remove_vowels that accepts a string and returns a string with all the vowels removed.\n"
   ]
  },
  {
   "cell_type": "code",
   "execution_count": 102,
   "id": "9920786e",
   "metadata": {},
   "outputs": [],
   "source": [
    "# 10.\n",
    "# Define a function named normalize_name. It should accept a string and return a valid python identifier, that is:\n",
    "# - anything that is not a valid python identifier should be removed\n",
    "# - leading and trailing whitespace should be removed\n",
    "# - everything should be lowercase\n",
    "# - spaces should be replaced with underscores\n",
    "# - for example:\n",
    "    # - Name will become name\n",
    "    # - First Name will become first_name\n",
    "    # - % Completed will become completed"
   ]
  },
  {
   "cell_type": "code",
   "execution_count": null,
   "id": "910dcd42",
   "metadata": {},
   "outputs": [],
   "source": [
    "# 11.\n",
    "# Write a function named cumulative_sum that accepts a list of numbers and returns a list that \n",
    "# is the cumulative sum of the numbers in the list.\n",
    "    # - cumulative_sum([1, 1, 1]) returns [1, 2, 3]\n",
    "    # - cumulative_sum([1, 2, 3, 4]) returns [1, 3, 6, 10]"
   ]
  }
 ],
 "metadata": {
  "kernelspec": {
   "display_name": "Python 3 (ipykernel)",
   "language": "python",
   "name": "python3"
  },
  "language_info": {
   "codemirror_mode": {
    "name": "ipython",
    "version": 3
   },
   "file_extension": ".py",
   "mimetype": "text/x-python",
   "name": "python",
   "nbconvert_exporter": "python",
   "pygments_lexer": "ipython3",
   "version": "3.11.4"
  }
 },
 "nbformat": 4,
 "nbformat_minor": 5
}
