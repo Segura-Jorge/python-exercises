{
 "cells": [
  {
   "cell_type": "code",
   "execution_count": 2,
   "id": "f4d097b7",
   "metadata": {},
   "outputs": [
    {
     "name": "stdout",
     "output_type": "stream",
     "text": [
      "Test for the is_two() function\n",
      "\n",
      "True\n",
      "True\n",
      "True\n",
      "False\n",
      "False\n"
     ]
    }
   ],
   "source": [
    "# 1.\n",
    "# Define a function named is_two. It should accept one input and return\n",
    "# true if the passed input is either the number or the string 2, False otherwise.\n",
    "    \n",
    "def is_two(n):\n",
    "    \"\"\"\n",
    "    takes a string or int and returns whether it is two\n",
    "    \"\"\"\n",
    "    return n == 2 or n == \"2\"\n",
    "print(\"Test for the is_two() function\")\n",
    "print()\n",
    "print(is_two(2))\n",
    "print(is_two('2'))\n",
    "print(is_two(\"2\"))\n",
    "print(is_two(3))\n",
    "print(is_two(1))"
   ]
  },
  {
   "cell_type": "code",
   "execution_count": 3,
   "id": "e3d35ab6",
   "metadata": {
    "scrolled": true
   },
   "outputs": [
    {
     "name": "stdout",
     "output_type": "stream",
     "text": [
      "Test for is_vowel\n",
      "\n",
      "True\n",
      "False\n",
      "False\n",
      "False\n",
      "True\n",
      "False\n"
     ]
    }
   ],
   "source": [
    "# Define a function named is_vowel. \n",
    "# It should return True if the passed string is a vowel, False otherwise.\n",
    "\n",
    "def is_vowel(letter):\n",
    "    \"\"\"\n",
    "    takes a single character string and returns True if it is a vowel\n",
    "    \"\"\"\n",
    "    return (letter.lower() in 'aeiou') and len(letter) == 1\n",
    "\n",
    "print(\"Test for is_vowel\")\n",
    "print()\n",
    "print(is_vowel(\"a\"))\n",
    "print(is_vowel(\"b\"))\n",
    "print(is_vowel(\"\"))\n",
    "print(is_vowel(\"ab\"))\n",
    "print(is_vowel(\"E\"))\n",
    "print(is_vowel(\"7\"))"
   ]
  },
  {
   "cell_type": "code",
   "execution_count": 108,
   "id": "d6270306",
   "metadata": {},
   "outputs": [
    {
     "ename": "SyntaxError",
     "evalue": "invalid syntax (50570839.py, line 18)",
     "output_type": "error",
     "traceback": [
      "\u001b[0;36m  Cell \u001b[0;32mIn[108], line 18\u001b[0;36m\u001b[0m\n\u001b[0;31m    print(is_consonant(7)) maybe ask about this during the lecture\u001b[0m\n\u001b[0m                           ^\u001b[0m\n\u001b[0;31mSyntaxError\u001b[0m\u001b[0;31m:\u001b[0m invalid syntax\n"
     ]
    }
   ],
   "source": [
    "# 3.\n",
    "# Define a function named is_consonant. It should return True if \n",
    "# the passed string is a consonant, False otherwise. \n",
    "# Use your is_vowel function to accomplish this\n",
    "\n",
    "def is_consonant(letter):\n",
    "    #letters = \"abcdefghijklmnopqrstuvwxyz\"\n",
    "    return len(letter) == 1 and letter.isalpha() and not is_vowel(letter)\n",
    "   \n",
    "print(\"Test for is_consonant\")\n",
    "print()\n",
    "print(is_consonant(\"a\"))\n",
    "print(is_consonant(\"b\"))\n",
    "print(is_consonant(\"\"))\n",
    "print(is_consonant(\"ab\"))\n",
    "print(is_consonant(\"T\"))\n",
    "print(is_consonant(\"1\"))\n",
    "# print(is_consonant(7)) maybe ask about this during the lecture"
   ]
  },
  {
   "cell_type": "code",
   "execution_count": 9,
   "id": "c86c6e7f",
   "metadata": {},
   "outputs": [
    {
     "name": "stdout",
     "output_type": "stream",
     "text": [
      "Test for capitalize_consonant\n",
      "\n",
      "Codeup\n",
      "School\n",
      "Jorge\n",
      "Segura\n",
      "Time\n"
     ]
    }
   ],
   "source": [
    "# 4.Define a function that accepts a string that is a word. \n",
    "# The function should capitalize the first letter of the word if the word starts with a consonant.\n",
    "\n",
    "def capitalize_consonant(arg):\n",
    "    if is_consonant(arg[0]) == True:\n",
    "        return arg.capitalize()\n",
    "    else:\n",
    "        return arg\n",
    "print(\"Test for capitalize_consonant\")\n",
    "print()\n",
    "print(capitalize_consonant(\"codeup\"))\n",
    "print(capitalize_consonant(\"school\"))\n",
    "print(capitalize_consonant(\"jorge\"))\n",
    "print(capitalize_consonant(\"segura\"))\n",
    "print(capitalize_consonant(\"TIME\"))\n",
    "# print(capitalize_consonant(700536)) Ask what happens when it's an integer?"
   ]
  },
  {
   "cell_type": "code",
   "execution_count": 21,
   "id": "9a7ea6b7",
   "metadata": {},
   "outputs": [
    {
     "name": "stdout",
     "output_type": "stream",
     "text": [
      "10.3\n",
      "11.45\n",
      "14.31\n",
      "57.23\n",
      "0.0\n"
     ]
    }
   ],
   "source": [
    "# 5.\n",
    "# Define a function named calculate_tip. \n",
    "# It should accept a tip percentage (a number between 0 and 1) and the bill total, and return the amount to tip.\n",
    "\n",
    "def calculate_tip(tip_rate, bill_total):\n",
    "    if tip_rate < 0 or tip_rate > 1:\n",
    "        return print(f'{tip_rate} is not a percentage.')\n",
    "    else:\n",
    "        return round((tip_rate * bill_total), 2)\n",
    "print(calculate_tip(0.18, 57.23))\n",
    "print(calculate_tip(0.20, 57.23))\n",
    "print(calculate_tip(0.25, 57.23))\n",
    "print(calculate_tip(1, 57.23))\n",
    "print(calculate_tip(0, 57.23))"
   ]
  },
  {
   "cell_type": "code",
   "execution_count": 22,
   "id": "65487c54",
   "metadata": {},
   "outputs": [
    {
     "name": "stdout",
     "output_type": "stream",
     "text": [
      "8.15\n"
     ]
    }
   ],
   "source": [
    "# this helps me visualize what i have to do to put in the defined function above.\n",
    "tip_rate = 0.18\n",
    "bill_total = 45.27\n",
    "tip = round((bill_total * tip_rate),2)\n",
    "print(tip)"
   ]
  },
  {
   "cell_type": "code",
   "execution_count": 39,
   "id": "966579cc",
   "metadata": {},
   "outputs": [
    {
     "name": "stdout",
     "output_type": "stream",
     "text": [
      "49.99\n",
      "37.49\n",
      "2.25\n",
      "63.99\n",
      "90.0\n"
     ]
    }
   ],
   "source": [
    "# 6.\n",
    "# Define a function named apply_discount. It should accept a original price, \n",
    "# and a discount percentage, and return the price after the discount is applied.\n",
    "def apply_discount (discount, original_price):\n",
    "    if discount < 0 or discount > 100:\n",
    "        return print(f'{discount} is not a percentage.')\n",
    "    else:\n",
    "        return round((original_price - ((discount/100) * original_price)), 2)\n",
    "print(apply_discount(50, 99.99))\n",
    "print(apply_discount(25, 49.99))\n",
    "print(apply_discount(75, 8.99))\n",
    "print(apply_discount(20, 79.99))\n",
    "print(apply_discount(90, 899.95))"
   ]
  },
  {
   "cell_type": "code",
   "execution_count": 26,
   "id": "8fd8af5e",
   "metadata": {},
   "outputs": [
    {
     "data": {
      "text/plain": [
       "44.99"
      ]
     },
     "execution_count": 26,
     "metadata": {},
     "output_type": "execute_result"
    }
   ],
   "source": [
    "# this helps me visualize what i have to do to put in the defined function above.\n",
    "original_price = 59.99\n",
    "discount = 50/100 # to make it a percent(decimal)\n",
    "price_after_discount = round(original_price - (discount*original_price),2)\n",
    "price_after_discount"
   ]
  },
  {
   "cell_type": "code",
   "execution_count": 62,
   "id": "b5e13348",
   "metadata": {},
   "outputs": [
    {
     "name": "stdout",
     "output_type": "stream",
     "text": [
      "500000.0\n",
      "3330300.67\n",
      "27450.79\n",
      "100.0\n",
      "-437561.76\n"
     ]
    }
   ],
   "source": [
    "# 7.\n",
    "# Define a function named handle_commas. It should accept a string that \n",
    "# is a number that contains commas in it as input, and return a number as output.\n",
    "def handle_commas(input_string):\n",
    "    # Remove commas from the input string\n",
    "    return float(input_string.replace(',', ''))\n",
    "    \n",
    "print(handle_commas(\"500,000.00\"))\n",
    "print(handle_commas(\"3,330,300.67\"))\n",
    "print(handle_commas(\"27,450.79\"))\n",
    "print(handle_commas(\"100\"))\n",
    "print(handle_commas(\"-437,561.76\"))\n",
    "# handle_commas(\"well, hi!\") it does not work with non-numerical strings!"
   ]
  },
  {
   "cell_type": "code",
   "execution_count": 78,
   "id": "a00dbd29",
   "metadata": {},
   "outputs": [
    {
     "name": "stdout",
     "output_type": "stream",
     "text": [
      "F\n",
      "F\n",
      "A\n",
      "C\n",
      "D\n"
     ]
    }
   ],
   "source": [
    "# 8.\n",
    "# Define a function named get_letter_grade. It should accept a number and return \n",
    "# the letter grade associated with that number (A-F).\n",
    "def get_letter_grade(grade_number):\n",
    "    #grade_number = int(grade_number)\n",
    "    if grade_number >= 90:\n",
    "        return('A')\n",
    "    elif grade_number >= 80:\n",
    "        return('B')\n",
    "    elif grade_number >= 70:\n",
    "        return('C')\n",
    "    elif grade_number >= 60:\n",
    "        return('D')\n",
    "    else:\n",
    "        return('F')\n",
    "        \n",
    "print(get_letter_grade(50))\n",
    "print(get_letter_grade(0))\n",
    "print(get_letter_grade(100))\n",
    "print(get_letter_grade(72))\n",
    "print(get_letter_grade(69))"
   ]
  },
  {
   "cell_type": "code",
   "execution_count": 66,
   "id": "912bc310",
   "metadata": {},
   "outputs": [
    {
     "name": "stdout",
     "output_type": "stream",
     "text": [
      "C\n"
     ]
    }
   ],
   "source": [
    "# this helps me visualize what i have to do to put in the defined function above.\n",
    "\n",
    "grade = 76\n",
    "    grade = int(grade)\n",
    "    if user_choice >= 90:\n",
    "        print('A')\n",
    "    elif user_choice >= 80:\n",
    "        print('B')\n",
    "    elif user_choice >= 70:\n",
    "        print('C')\n",
    "    elif user_choice >= 60:\n",
    "        print('D')\n",
    "    else:\n",
    "        print('F')"
   ]
  },
  {
   "cell_type": "code",
   "execution_count": 107,
   "id": "c101df19",
   "metadata": {},
   "outputs": [
    {
     "name": "stdout",
     "output_type": "stream",
     "text": [
      "Jrg\n",
      "ppl\n",
      "jc\n",
      "prngrctrmcr\n",
      "Brb\n",
      "Brnd\n"
     ]
    }
   ],
   "source": [
    "# 9.\n",
    "# Define a function named remove_vowels that accepts a string and returns a string with all the vowels removed.\n",
    "def remove_vowels(string_word):\n",
    "    # Defining a string containing all vowels (both uppercase and lowercase)\n",
    "    vowels = \"AEIOUaeiou\"\n",
    "    \n",
    "    # list comprehension creates a new string without 'vowels'\n",
    "    joining_consonants = ''.join([char for char in string_word if char not in vowels])\n",
    "    \n",
    "    return joining_consonants\n",
    "\n",
    "print(remove_vowels(\"Jorge\"))\n",
    "print(remove_vowels(\"Apple\"))\n",
    "print(remove_vowels(\"juice\"))\n",
    "print(remove_vowels(\"parangaracutirimicuaro\"))\n",
    "print(remove_vowels(\"Barbie\"))\n",
    "print(remove_vowels(\"Brandi\"))"
   ]
  },
  {
   "cell_type": "code",
   "execution_count": 171,
   "id": "9920786e",
   "metadata": {},
   "outputs": [
    {
     "name": "stdout",
     "output_type": "stream",
     "text": [
      "jorge_segura\n",
      "_001_-_pilly\n",
      "pilly_-_001\n",
      "brandi_reger\n",
      "blue_heeler_izel\n"
     ]
    }
   ],
   "source": [
    "# 10.\n",
    "# Define a function named normalize_name. It should accept a string and return a valid python identifier, that is:\n",
    "# - anything that is not a valid python identifier should be removed\n",
    "# - leading and trailing whitespace should be removed\n",
    "# - everything should be lowercase\n",
    "# - spaces should be replaced with underscores\n",
    "# - for example:\n",
    "    # - Name will become name\n",
    "    # - First Name will become first_name\n",
    "    # - % Completed will become completed\n",
    "    \n",
    "def normalize_name(python_name):\n",
    "    \n",
    "    i_python_id = python_name\n",
    "    no_spaces = str(i_python_id.replace(' ', '_'))\n",
    "    lower_case = no_spaces.lower()\n",
    "    fixed = lower_case\n",
    "    return fixed\n",
    "\n",
    "print(normalize_name(\"Jorge Segura\"))\n",
    "print(normalize_name(\" 001 - Pilly\"))\n",
    "print(normalize_name(\"Pilly - 001\"))\n",
    "print(normalize_name(\"BRANDI reger\"))\n",
    "print(normalize_name(\"BLUE heeler Izel\"))"
   ]
  },
  {
   "cell_type": "code",
   "execution_count": 118,
   "id": "ba6f6603",
   "metadata": {},
   "outputs": [
    {
     "data": {
      "text/plain": [
       "'_first_name'"
      ]
     },
     "execution_count": 118,
     "metadata": {},
     "output_type": "execute_result"
    }
   ],
   "source": [
    "# this helps me visualize what i have to do to put in the defined function above.\n",
    "i_python_id = ' First Name'\n",
    "no_spaces = str(i_python_id.replace(' ', '_'))\n",
    "lower_case = no_spaces.lower()\n",
    "lower_case "
   ]
  },
  {
   "cell_type": "code",
   "execution_count": null,
   "id": "910dcd42",
   "metadata": {},
   "outputs": [],
   "source": [
    "# 11.\n",
    "# Write a function named cumulative_sum that accepts a list of numbers and returns a list that \n",
    "# is the cumulative sum of the numbers in the list.\n",
    "    # - cumulative_sum([1, 1, 1]) returns [1, 2, 3]\n",
    "    # - cumulative_sum([1, 2, 3, 4]) returns [1, 3, 6, 10]\n",
    "\n"
   ]
  },
  {
   "cell_type": "code",
   "execution_count": 168,
   "id": "9b383c37",
   "metadata": {},
   "outputs": [
    {
     "name": "stdout",
     "output_type": "stream",
     "text": [
      "List 1 - [1, 3, 6]\n",
      "List 2 - [0, 1, 4, 9, 16, 27, 40, 57]\n",
      "List 3 - [-29, -44, -46, -46, 0]\n",
      "List 4 - [13, 101, 213]\n",
      "List 5 - [44, 22, 39, 26, 55]\n",
      "List 6 - [1, 18, 87, 131]\n"
     ]
    }
   ],
   "source": [
    "def cumulative_sum(list_of_numbers):\n",
    "    # Initialize an empty list to store the cumulative sums\n",
    "    cumulative_sums = []\n",
    "    current_sum = 0  # Initialize a variable to keep track of the current sum\n",
    "    \n",
    "    # Iterate through the input list and calculate the cumulative sum\n",
    "    for num in list_of_numbers:\n",
    "        current_sum = current_sum + num\n",
    "        cumulative_sums.append(current_sum)\n",
    "    \n",
    "    return cumulative_sums\n",
    "\n",
    "print(f'List 1 - {cumulative_sum([1,2,3])}')\n",
    "print(f'List 2 - {cumulative_sum([0,1,3,5,7,11,13,17])}')\n",
    "print(f'List 3 - {cumulative_sum([-29,-15,-2,0,46])}')\n",
    "print(f'List 4 - {cumulative_sum([13,88,112])}')\n",
    "print(f'List 5 - {cumulative_sum([44,-22,17,-13,29])}')\n",
    "print(f'List 6 - {cumulative_sum([1,17,69,44])}')"
   ]
  },
  {
   "cell_type": "code",
   "execution_count": null,
   "id": "4d84b33c",
   "metadata": {},
   "outputs": [],
   "source": []
  }
 ],
 "metadata": {
  "kernelspec": {
   "display_name": "Python 3 (ipykernel)",
   "language": "python",
   "name": "python3"
  },
  "language_info": {
   "codemirror_mode": {
    "name": "ipython",
    "version": 3
   },
   "file_extension": ".py",
   "mimetype": "text/x-python",
   "name": "python",
   "nbconvert_exporter": "python",
   "pygments_lexer": "ipython3",
   "version": "3.11.4"
  }
 },
 "nbformat": 4,
 "nbformat_minor": 5
}
